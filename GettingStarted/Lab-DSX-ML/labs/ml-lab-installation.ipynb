{
 "cells": [
  {
   "cell_type": "markdown",
   "metadata": {
    "collapsed": true
   },
   "source": [
    "# DSX ML Lab Installation Steps (Decison Tree)"
   ]
  },
  {
   "cell_type": "markdown",
   "metadata": {},
   "source": [
    "## Installing Brunel"
   ]
  },
  {
   "cell_type": "code",
   "execution_count": 1,
   "metadata": {
    "collapsed": false
   },
   "outputs": [
    {
     "data": {
      "text/html": [
       "<ol class=list-inline>\n",
       "\t<li>\"Collecting brunel\"</li>\n",
       "\t<li><span style=white-space:pre-wrap>\"  Downloading brunel-2.0.zip (2.0MB)\"</span></li>\n",
       "\t<li>\"Collecting pandas (from brunel)\"</li>\n",
       "\t<li><span style=white-space:pre-wrap>\"  Downloading pandas-0.18.1-cp27-cp27m-manylinux1_x86_64.whl (14.2MB)\"</span></li>\n",
       "\t<li>\"Requirement already up-to-date: jinja2 in /usr/local/src/bluemix_jupyter_bundle.v13/notebook/lib/python2.7/site-packages (from brunel)\"</li>\n",
       "\t<li>\"Collecting ipython (from brunel)\"</li>\n",
       "\t<li><span style=white-space:pre-wrap>\"  Downloading ipython-5.1.0-py2-none-any.whl (747kB)\"</span></li>\n",
       "\t<li>\"Requirement already up-to-date: jupyter-pip in /usr/local/src/bluemix_jupyter_bundle.v13/notebook/lib/python2.7/site-packages (from brunel)\"</li>\n",
       "\t<li>\"Requirement already up-to-date: JPype1 in /usr/local/src/bluemix_jupyter_bundle.v13/notebook/lib/python2.7/site-packages (from brunel)\"</li>\n",
       "\t<li>\"Collecting pytz&gt;=2011k (from pandas-&gt;brunel)\"</li>\n",
       "\t<li><span style=white-space:pre-wrap>\"  Downloading pytz-2016.6.1-py2.py3-none-any.whl (481kB)\"</span></li>\n",
       "\t<li>\"Collecting python-dateutil (from pandas-&gt;brunel)\"</li>\n",
       "\t<li><span style=white-space:pre-wrap>\"  Downloading python_dateutil-2.5.3-py2.py3-none-any.whl (201kB)\"</span></li>\n",
       "\t<li>\"Collecting numpy&gt;=1.7.0 (from pandas-&gt;brunel)\"</li>\n",
       "\t<li><span style=white-space:pre-wrap>\"  Downloading numpy-1.11.1-cp27-cp27m-manylinux1_x86_64.whl (15.3MB)\"</span></li>\n",
       "\t<li>\"Requirement already up-to-date: MarkupSafe in /usr/local/src/bluemix_jupyter_bundle.v13/notebook/lib/python2.7/site-packages (from jinja2-&gt;brunel)\"</li>\n",
       "\t<li>\"Collecting pygments (from ipython-&gt;brunel)\"</li>\n",
       "\t<li><span style=white-space:pre-wrap>\"  Downloading Pygments-2.1.3-py2.py3-none-any.whl (755kB)\"</span></li>\n",
       "\t<li>\"Collecting pickleshare (from ipython-&gt;brunel)\"</li>\n",
       "\t<li><span style=white-space:pre-wrap>\"  Downloading pickleshare-0.7.4-py2.py3-none-any.whl\"</span></li>\n",
       "\t<li>\"Requirement already up-to-date: simplegeneric&gt;0.8 in /usr/local/src/bluemix_jupyter_bundle.v13/notebook/lib/python2.7/site-packages (from ipython-&gt;brunel)\"</li>\n",
       "\t<li>\"Requirement already up-to-date: backports.shutil-get-terminal-size in /usr/local/src/bluemix_jupyter_bundle.v13/notebook/lib/python2.7/site-packages (from ipython-&gt;brunel)\"</li>\n",
       "\t<li>\"Collecting traitlets&gt;=4.2 (from ipython-&gt;brunel)\"</li>\n",
       "\t<li><span style=white-space:pre-wrap>\"  Downloading traitlets-4.3.0-py2.py3-none-any.whl (74kB)\"</span></li>\n",
       "\t<li>\"Collecting setuptools&gt;=18.5 (from ipython-&gt;brunel)\"</li>\n",
       "\t<li><span style=white-space:pre-wrap>\"  Downloading setuptools-27.1.2-py2.py3-none-any.whl (464kB)\"</span></li>\n",
       "\t<li>\"Collecting decorator (from ipython-&gt;brunel)\"</li>\n",
       "\t<li><span style=white-space:pre-wrap>\"  Downloading decorator-4.0.10-py2.py3-none-any.whl\"</span></li>\n",
       "\t<li>\"Collecting pexpect (from ipython-&gt;brunel)\"</li>\n",
       "\t<li><span style=white-space:pre-wrap>\"  Downloading pexpect-4.2.1-py2.py3-none-any.whl (55kB)\"</span></li>\n",
       "\t<li>\"Collecting prompt-toolkit&lt;2.0.0,&gt;=1.0.3 (from ipython-&gt;brunel)\"</li>\n",
       "\t<li><span style=white-space:pre-wrap>\"  Downloading prompt_toolkit-1.0.7-py2-none-any.whl (237kB)\"</span></li>\n",
       "\t<li>\"Collecting pathlib2 (from ipython-&gt;brunel)\"</li>\n",
       "\t<li><span style=white-space:pre-wrap>\"  Downloading pathlib2-2.1.0-py2.py3-none-any.whl\"</span></li>\n",
       "\t<li>\"Requirement already up-to-date: six&gt;=1.5 in /usr/local/src/bluemix_jupyter_bundle.v13/notebook/lib/python2.7/site-packages (from python-dateutil-&gt;pandas-&gt;brunel)\"</li>\n",
       "\t<li>\"Collecting enum34 (from traitlets&gt;=4.2-&gt;ipython-&gt;brunel)\"</li>\n",
       "\t<li><span style=white-space:pre-wrap>\"  Downloading enum34-1.1.6-py2-none-any.whl\"</span></li>\n",
       "\t<li>\"Requirement already up-to-date: ipython-genutils in /usr/local/src/bluemix_jupyter_bundle.v13/notebook/lib/python2.7/site-packages (from traitlets&gt;=4.2-&gt;ipython-&gt;brunel)\"</li>\n",
       "\t<li>\"Collecting ptyprocess&gt;=0.5 (from pexpect-&gt;ipython-&gt;brunel)\"</li>\n",
       "\t<li><span style=white-space:pre-wrap>\"  Downloading ptyprocess-0.5.1-py2.py3-none-any.whl\"</span></li>\n",
       "\t<li>\"Collecting wcwidth (from prompt-toolkit&lt;2.0.0,&gt;=1.0.3-&gt;ipython-&gt;brunel)\"</li>\n",
       "\t<li><span style=white-space:pre-wrap>\"  Downloading wcwidth-0.1.7-py2.py3-none-any.whl\"</span></li>\n",
       "\t<li>\"Installing collected packages: pytz, python-dateutil, numpy, pandas, pygments, pathlib2, pickleshare, decorator, enum34, traitlets, setuptools, ptyprocess, pexpect, wcwidth, prompt-toolkit, ipython, brunel\"</li>\n",
       "\t<li><span style=white-space:pre-wrap>\"  Running setup.py install for brunel: started\"</span></li>\n",
       "\t<li><span style=white-space:pre-wrap>\"    Running setup.py install for brunel: finished with status 'done'\"</span></li>\n",
       "\t<li>\"Successfully installed brunel-2.0 decorator-4.0.10 enum34-1.1.6 ipython-5.1.0 numpy-1.11.1 pandas-0.18.1 pathlib2-2.1.0 pexpect-4.2.1 pickleshare-0.7.4 prompt-toolkit-1.0.7 ptyprocess-0.5.1 pygments-2.1.3 python-dateutil-2.5.3 pytz-2016.6.1 setuptools-27.1.2 traitlets-4.3.0 wcwidth-0.1.7\"</li>\n",
       "</ol>\n"
      ],
      "text/latex": [
       "\\begin{enumerate*}\n",
       "\\item \"Collecting brunel\"\n",
       "\\item \"  Downloading brunel-2.0.zip (2.0MB)\"\n",
       "\\item \"Collecting pandas (from brunel)\"\n",
       "\\item \"  Downloading pandas-0.18.1-cp27-cp27m-manylinux1\\_x86\\_64.whl (14.2MB)\"\n",
       "\\item \"Requirement already up-to-date: jinja2 in /usr/local/src/bluemix\\_jupyter\\_bundle.v13/notebook/lib/python2.7/site-packages (from brunel)\"\n",
       "\\item \"Collecting ipython (from brunel)\"\n",
       "\\item \"  Downloading ipython-5.1.0-py2-none-any.whl (747kB)\"\n",
       "\\item \"Requirement already up-to-date: jupyter-pip in /usr/local/src/bluemix\\_jupyter\\_bundle.v13/notebook/lib/python2.7/site-packages (from brunel)\"\n",
       "\\item \"Requirement already up-to-date: JPype1 in /usr/local/src/bluemix\\_jupyter\\_bundle.v13/notebook/lib/python2.7/site-packages (from brunel)\"\n",
       "\\item \"Collecting pytz>=2011k (from pandas->brunel)\"\n",
       "\\item \"  Downloading pytz-2016.6.1-py2.py3-none-any.whl (481kB)\"\n",
       "\\item \"Collecting python-dateutil (from pandas->brunel)\"\n",
       "\\item \"  Downloading python\\_dateutil-2.5.3-py2.py3-none-any.whl (201kB)\"\n",
       "\\item \"Collecting numpy>=1.7.0 (from pandas->brunel)\"\n",
       "\\item \"  Downloading numpy-1.11.1-cp27-cp27m-manylinux1\\_x86\\_64.whl (15.3MB)\"\n",
       "\\item \"Requirement already up-to-date: MarkupSafe in /usr/local/src/bluemix\\_jupyter\\_bundle.v13/notebook/lib/python2.7/site-packages (from jinja2->brunel)\"\n",
       "\\item \"Collecting pygments (from ipython->brunel)\"\n",
       "\\item \"  Downloading Pygments-2.1.3-py2.py3-none-any.whl (755kB)\"\n",
       "\\item \"Collecting pickleshare (from ipython->brunel)\"\n",
       "\\item \"  Downloading pickleshare-0.7.4-py2.py3-none-any.whl\"\n",
       "\\item \"Requirement already up-to-date: simplegeneric>0.8 in /usr/local/src/bluemix\\_jupyter\\_bundle.v13/notebook/lib/python2.7/site-packages (from ipython->brunel)\"\n",
       "\\item \"Requirement already up-to-date: backports.shutil-get-terminal-size in /usr/local/src/bluemix\\_jupyter\\_bundle.v13/notebook/lib/python2.7/site-packages (from ipython->brunel)\"\n",
       "\\item \"Collecting traitlets>=4.2 (from ipython->brunel)\"\n",
       "\\item \"  Downloading traitlets-4.3.0-py2.py3-none-any.whl (74kB)\"\n",
       "\\item \"Collecting setuptools>=18.5 (from ipython->brunel)\"\n",
       "\\item \"  Downloading setuptools-27.1.2-py2.py3-none-any.whl (464kB)\"\n",
       "\\item \"Collecting decorator (from ipython->brunel)\"\n",
       "\\item \"  Downloading decorator-4.0.10-py2.py3-none-any.whl\"\n",
       "\\item \"Collecting pexpect (from ipython->brunel)\"\n",
       "\\item \"  Downloading pexpect-4.2.1-py2.py3-none-any.whl (55kB)\"\n",
       "\\item \"Collecting prompt-toolkit<2.0.0,>=1.0.3 (from ipython->brunel)\"\n",
       "\\item \"  Downloading prompt\\_toolkit-1.0.7-py2-none-any.whl (237kB)\"\n",
       "\\item \"Collecting pathlib2 (from ipython->brunel)\"\n",
       "\\item \"  Downloading pathlib2-2.1.0-py2.py3-none-any.whl\"\n",
       "\\item \"Requirement already up-to-date: six>=1.5 in /usr/local/src/bluemix\\_jupyter\\_bundle.v13/notebook/lib/python2.7/site-packages (from python-dateutil->pandas->brunel)\"\n",
       "\\item \"Collecting enum34 (from traitlets>=4.2->ipython->brunel)\"\n",
       "\\item \"  Downloading enum34-1.1.6-py2-none-any.whl\"\n",
       "\\item \"Requirement already up-to-date: ipython-genutils in /usr/local/src/bluemix\\_jupyter\\_bundle.v13/notebook/lib/python2.7/site-packages (from traitlets>=4.2->ipython->brunel)\"\n",
       "\\item \"Collecting ptyprocess>=0.5 (from pexpect->ipython->brunel)\"\n",
       "\\item \"  Downloading ptyprocess-0.5.1-py2.py3-none-any.whl\"\n",
       "\\item \"Collecting wcwidth (from prompt-toolkit<2.0.0,>=1.0.3->ipython->brunel)\"\n",
       "\\item \"  Downloading wcwidth-0.1.7-py2.py3-none-any.whl\"\n",
       "\\item \"Installing collected packages: pytz, python-dateutil, numpy, pandas, pygments, pathlib2, pickleshare, decorator, enum34, traitlets, setuptools, ptyprocess, pexpect, wcwidth, prompt-toolkit, ipython, brunel\"\n",
       "\\item \"  Running setup.py install for brunel: started\"\n",
       "\\item \"    Running setup.py install for brunel: finished with status 'done'\"\n",
       "\\item \"Successfully installed brunel-2.0 decorator-4.0.10 enum34-1.1.6 ipython-5.1.0 numpy-1.11.1 pandas-0.18.1 pathlib2-2.1.0 pexpect-4.2.1 pickleshare-0.7.4 prompt-toolkit-1.0.7 ptyprocess-0.5.1 pygments-2.1.3 python-dateutil-2.5.3 pytz-2016.6.1 setuptools-27.1.2 traitlets-4.3.0 wcwidth-0.1.7\"\n",
       "\\end{enumerate*}\n"
      ],
      "text/markdown": [
       "1. \"Collecting brunel\"\n",
       "2. <span style=white-space:pre-wrap>\"  Downloading brunel-2.0.zip (2.0MB)\"</span>\n",
       "3. \"Collecting pandas (from brunel)\"\n",
       "4. <span style=white-space:pre-wrap>\"  Downloading pandas-0.18.1-cp27-cp27m-manylinux1_x86_64.whl (14.2MB)\"</span>\n",
       "5. \"Requirement already up-to-date: jinja2 in /usr/local/src/bluemix_jupyter_bundle.v13/notebook/lib/python2.7/site-packages (from brunel)\"\n",
       "6. \"Collecting ipython (from brunel)\"\n",
       "7. <span style=white-space:pre-wrap>\"  Downloading ipython-5.1.0-py2-none-any.whl (747kB)\"</span>\n",
       "8. \"Requirement already up-to-date: jupyter-pip in /usr/local/src/bluemix_jupyter_bundle.v13/notebook/lib/python2.7/site-packages (from brunel)\"\n",
       "9. \"Requirement already up-to-date: JPype1 in /usr/local/src/bluemix_jupyter_bundle.v13/notebook/lib/python2.7/site-packages (from brunel)\"\n",
       "10. \"Collecting pytz&gt;=2011k (from pandas-&gt;brunel)\"\n",
       "11. <span style=white-space:pre-wrap>\"  Downloading pytz-2016.6.1-py2.py3-none-any.whl (481kB)\"</span>\n",
       "12. \"Collecting python-dateutil (from pandas-&gt;brunel)\"\n",
       "13. <span style=white-space:pre-wrap>\"  Downloading python_dateutil-2.5.3-py2.py3-none-any.whl (201kB)\"</span>\n",
       "14. \"Collecting numpy&gt;=1.7.0 (from pandas-&gt;brunel)\"\n",
       "15. <span style=white-space:pre-wrap>\"  Downloading numpy-1.11.1-cp27-cp27m-manylinux1_x86_64.whl (15.3MB)\"</span>\n",
       "16. \"Requirement already up-to-date: MarkupSafe in /usr/local/src/bluemix_jupyter_bundle.v13/notebook/lib/python2.7/site-packages (from jinja2-&gt;brunel)\"\n",
       "17. \"Collecting pygments (from ipython-&gt;brunel)\"\n",
       "18. <span style=white-space:pre-wrap>\"  Downloading Pygments-2.1.3-py2.py3-none-any.whl (755kB)\"</span>\n",
       "19. \"Collecting pickleshare (from ipython-&gt;brunel)\"\n",
       "20. <span style=white-space:pre-wrap>\"  Downloading pickleshare-0.7.4-py2.py3-none-any.whl\"</span>\n",
       "21. \"Requirement already up-to-date: simplegeneric&gt;0.8 in /usr/local/src/bluemix_jupyter_bundle.v13/notebook/lib/python2.7/site-packages (from ipython-&gt;brunel)\"\n",
       "22. \"Requirement already up-to-date: backports.shutil-get-terminal-size in /usr/local/src/bluemix_jupyter_bundle.v13/notebook/lib/python2.7/site-packages (from ipython-&gt;brunel)\"\n",
       "23. \"Collecting traitlets&gt;=4.2 (from ipython-&gt;brunel)\"\n",
       "24. <span style=white-space:pre-wrap>\"  Downloading traitlets-4.3.0-py2.py3-none-any.whl (74kB)\"</span>\n",
       "25. \"Collecting setuptools&gt;=18.5 (from ipython-&gt;brunel)\"\n",
       "26. <span style=white-space:pre-wrap>\"  Downloading setuptools-27.1.2-py2.py3-none-any.whl (464kB)\"</span>\n",
       "27. \"Collecting decorator (from ipython-&gt;brunel)\"\n",
       "28. <span style=white-space:pre-wrap>\"  Downloading decorator-4.0.10-py2.py3-none-any.whl\"</span>\n",
       "29. \"Collecting pexpect (from ipython-&gt;brunel)\"\n",
       "30. <span style=white-space:pre-wrap>\"  Downloading pexpect-4.2.1-py2.py3-none-any.whl (55kB)\"</span>\n",
       "31. \"Collecting prompt-toolkit&lt;2.0.0,&gt;=1.0.3 (from ipython-&gt;brunel)\"\n",
       "32. <span style=white-space:pre-wrap>\"  Downloading prompt_toolkit-1.0.7-py2-none-any.whl (237kB)\"</span>\n",
       "33. \"Collecting pathlib2 (from ipython-&gt;brunel)\"\n",
       "34. <span style=white-space:pre-wrap>\"  Downloading pathlib2-2.1.0-py2.py3-none-any.whl\"</span>\n",
       "35. \"Requirement already up-to-date: six&gt;=1.5 in /usr/local/src/bluemix_jupyter_bundle.v13/notebook/lib/python2.7/site-packages (from python-dateutil-&gt;pandas-&gt;brunel)\"\n",
       "36. \"Collecting enum34 (from traitlets&gt;=4.2-&gt;ipython-&gt;brunel)\"\n",
       "37. <span style=white-space:pre-wrap>\"  Downloading enum34-1.1.6-py2-none-any.whl\"</span>\n",
       "38. \"Requirement already up-to-date: ipython-genutils in /usr/local/src/bluemix_jupyter_bundle.v13/notebook/lib/python2.7/site-packages (from traitlets&gt;=4.2-&gt;ipython-&gt;brunel)\"\n",
       "39. \"Collecting ptyprocess&gt;=0.5 (from pexpect-&gt;ipython-&gt;brunel)\"\n",
       "40. <span style=white-space:pre-wrap>\"  Downloading ptyprocess-0.5.1-py2.py3-none-any.whl\"</span>\n",
       "41. \"Collecting wcwidth (from prompt-toolkit&lt;2.0.0,&gt;=1.0.3-&gt;ipython-&gt;brunel)\"\n",
       "42. <span style=white-space:pre-wrap>\"  Downloading wcwidth-0.1.7-py2.py3-none-any.whl\"</span>\n",
       "43. \"Installing collected packages: pytz, python-dateutil, numpy, pandas, pygments, pathlib2, pickleshare, decorator, enum34, traitlets, setuptools, ptyprocess, pexpect, wcwidth, prompt-toolkit, ipython, brunel\"\n",
       "44. <span style=white-space:pre-wrap>\"  Running setup.py install for brunel: started\"</span>\n",
       "45. <span style=white-space:pre-wrap>\"    Running setup.py install for brunel: finished with status 'done'\"</span>\n",
       "46. \"Successfully installed brunel-2.0 decorator-4.0.10 enum34-1.1.6 ipython-5.1.0 numpy-1.11.1 pandas-0.18.1 pathlib2-2.1.0 pexpect-4.2.1 pickleshare-0.7.4 prompt-toolkit-1.0.7 ptyprocess-0.5.1 pygments-2.1.3 python-dateutil-2.5.3 pytz-2016.6.1 setuptools-27.1.2 traitlets-4.3.0 wcwidth-0.1.7\"\n",
       "\n",
       "\n"
      ],
      "text/plain": [
       " [1] \"Collecting brunel\"                                                                                                                                                                                                                                                                               \n",
       " [2] \"  Downloading brunel-2.0.zip (2.0MB)\"                                                                                                                                                                                                                                                            \n",
       " [3] \"Collecting pandas (from brunel)\"                                                                                                                                                                                                                                                                 \n",
       " [4] \"  Downloading pandas-0.18.1-cp27-cp27m-manylinux1_x86_64.whl (14.2MB)\"                                                                                                                                                                                                                           \n",
       " [5] \"Requirement already up-to-date: jinja2 in /usr/local/src/bluemix_jupyter_bundle.v13/notebook/lib/python2.7/site-packages (from brunel)\"                                                                                                                                                          \n",
       " [6] \"Collecting ipython (from brunel)\"                                                                                                                                                                                                                                                                \n",
       " [7] \"  Downloading ipython-5.1.0-py2-none-any.whl (747kB)\"                                                                                                                                                                                                                                            \n",
       " [8] \"Requirement already up-to-date: jupyter-pip in /usr/local/src/bluemix_jupyter_bundle.v13/notebook/lib/python2.7/site-packages (from brunel)\"                                                                                                                                                     \n",
       " [9] \"Requirement already up-to-date: JPype1 in /usr/local/src/bluemix_jupyter_bundle.v13/notebook/lib/python2.7/site-packages (from brunel)\"                                                                                                                                                          \n",
       "[10] \"Collecting pytz>=2011k (from pandas->brunel)\"                                                                                                                                                                                                                                                    \n",
       "[11] \"  Downloading pytz-2016.6.1-py2.py3-none-any.whl (481kB)\"                                                                                                                                                                                                                                        \n",
       "[12] \"Collecting python-dateutil (from pandas->brunel)\"                                                                                                                                                                                                                                                \n",
       "[13] \"  Downloading python_dateutil-2.5.3-py2.py3-none-any.whl (201kB)\"                                                                                                                                                                                                                                \n",
       "[14] \"Collecting numpy>=1.7.0 (from pandas->brunel)\"                                                                                                                                                                                                                                                   \n",
       "[15] \"  Downloading numpy-1.11.1-cp27-cp27m-manylinux1_x86_64.whl (15.3MB)\"                                                                                                                                                                                                                            \n",
       "[16] \"Requirement already up-to-date: MarkupSafe in /usr/local/src/bluemix_jupyter_bundle.v13/notebook/lib/python2.7/site-packages (from jinja2->brunel)\"                                                                                                                                              \n",
       "[17] \"Collecting pygments (from ipython->brunel)\"                                                                                                                                                                                                                                                      \n",
       "[18] \"  Downloading Pygments-2.1.3-py2.py3-none-any.whl (755kB)\"                                                                                                                                                                                                                                       \n",
       "[19] \"Collecting pickleshare (from ipython->brunel)\"                                                                                                                                                                                                                                                   \n",
       "[20] \"  Downloading pickleshare-0.7.4-py2.py3-none-any.whl\"                                                                                                                                                                                                                                            \n",
       "[21] \"Requirement already up-to-date: simplegeneric>0.8 in /usr/local/src/bluemix_jupyter_bundle.v13/notebook/lib/python2.7/site-packages (from ipython->brunel)\"                                                                                                                                      \n",
       "[22] \"Requirement already up-to-date: backports.shutil-get-terminal-size in /usr/local/src/bluemix_jupyter_bundle.v13/notebook/lib/python2.7/site-packages (from ipython->brunel)\"                                                                                                                     \n",
       "[23] \"Collecting traitlets>=4.2 (from ipython->brunel)\"                                                                                                                                                                                                                                                \n",
       "[24] \"  Downloading traitlets-4.3.0-py2.py3-none-any.whl (74kB)\"                                                                                                                                                                                                                                       \n",
       "[25] \"Collecting setuptools>=18.5 (from ipython->brunel)\"                                                                                                                                                                                                                                              \n",
       "[26] \"  Downloading setuptools-27.1.2-py2.py3-none-any.whl (464kB)\"                                                                                                                                                                                                                                    \n",
       "[27] \"Collecting decorator (from ipython->brunel)\"                                                                                                                                                                                                                                                     \n",
       "[28] \"  Downloading decorator-4.0.10-py2.py3-none-any.whl\"                                                                                                                                                                                                                                             \n",
       "[29] \"Collecting pexpect (from ipython->brunel)\"                                                                                                                                                                                                                                                       \n",
       "[30] \"  Downloading pexpect-4.2.1-py2.py3-none-any.whl (55kB)\"                                                                                                                                                                                                                                         \n",
       "[31] \"Collecting prompt-toolkit<2.0.0,>=1.0.3 (from ipython->brunel)\"                                                                                                                                                                                                                                  \n",
       "[32] \"  Downloading prompt_toolkit-1.0.7-py2-none-any.whl (237kB)\"                                                                                                                                                                                                                                     \n",
       "[33] \"Collecting pathlib2 (from ipython->brunel)\"                                                                                                                                                                                                                                                      \n",
       "[34] \"  Downloading pathlib2-2.1.0-py2.py3-none-any.whl\"                                                                                                                                                                                                                                               \n",
       "[35] \"Requirement already up-to-date: six>=1.5 in /usr/local/src/bluemix_jupyter_bundle.v13/notebook/lib/python2.7/site-packages (from python-dateutil->pandas->brunel)\"                                                                                                                               \n",
       "[36] \"Collecting enum34 (from traitlets>=4.2->ipython->brunel)\"                                                                                                                                                                                                                                        \n",
       "[37] \"  Downloading enum34-1.1.6-py2-none-any.whl\"                                                                                                                                                                                                                                                     \n",
       "[38] \"Requirement already up-to-date: ipython-genutils in /usr/local/src/bluemix_jupyter_bundle.v13/notebook/lib/python2.7/site-packages (from traitlets>=4.2->ipython->brunel)\"                                                                                                                       \n",
       "[39] \"Collecting ptyprocess>=0.5 (from pexpect->ipython->brunel)\"                                                                                                                                                                                                                                      \n",
       "[40] \"  Downloading ptyprocess-0.5.1-py2.py3-none-any.whl\"                                                                                                                                                                                                                                             \n",
       "[41] \"Collecting wcwidth (from prompt-toolkit<2.0.0,>=1.0.3->ipython->brunel)\"                                                                                                                                                                                                                         \n",
       "[42] \"  Downloading wcwidth-0.1.7-py2.py3-none-any.whl\"                                                                                                                                                                                                                                                \n",
       "[43] \"Installing collected packages: pytz, python-dateutil, numpy, pandas, pygments, pathlib2, pickleshare, decorator, enum34, traitlets, setuptools, ptyprocess, pexpect, wcwidth, prompt-toolkit, ipython, brunel\"                                                                                   \n",
       "[44] \"  Running setup.py install for brunel: started\"                                                                                                                                                                                                                                                  \n",
       "[45] \"    Running setup.py install for brunel: finished with status 'done'\"                                                                                                                                                                                                                            \n",
       "[46] \"Successfully installed brunel-2.0 decorator-4.0.10 enum34-1.1.6 ipython-5.1.0 numpy-1.11.1 pandas-0.18.1 pathlib2-2.1.0 pexpect-4.2.1 pickleshare-0.7.4 prompt-toolkit-1.0.7 ptyprocess-0.5.1 pygments-2.1.3 python-dateutil-2.5.3 pytz-2016.6.1 setuptools-27.1.2 traitlets-4.3.0 wcwidth-0.1.7\""
      ]
     },
     "execution_count": 1,
     "metadata": {},
     "output_type": "execute_result"
    }
   ],
   "source": [
    "try(system(\"pip install brunel --upgrade --user\", intern = TRUE, ignore.stderr = TRUE))"
   ]
  },
  {
   "cell_type": "markdown",
   "metadata": {},
   "source": [
    "## Installing supporting R packages"
   ]
  },
  {
   "cell_type": "markdown",
   "metadata": {},
   "source": [
    "### Installing R packages for Brunel"
   ]
  },
  {
   "cell_type": "code",
   "execution_count": 2,
   "metadata": {
    "collapsed": false
   },
   "outputs": [
    {
     "name": "stderr",
     "output_type": "stream",
     "text": [
      "Installing package into '/gpfs/global_fs01/sym_shared/YPProdSpark/user/saa2-26402da99cd883-b36e0daf8e2e/R/libs'\n",
      "(as 'lib' is unspecified)\n"
     ]
    }
   ],
   "source": [
    "install.packages(\"devtools\")"
   ]
  },
  {
   "cell_type": "code",
   "execution_count": 3,
   "metadata": {
    "collapsed": false
   },
   "outputs": [
    {
     "name": "stderr",
     "output_type": "stream",
     "text": [
      "Downloading GitHub repo Brunel-Visualization/Brunel@master2.1\n",
      "from URL https://api.github.com/repos/Brunel-Visualization/Brunel/zipball/master2.1\n",
      "Installing brunel\n",
      "'/usr/local/src/bluemix_jupyter_bundle/R/lib64/R/bin/R' --no-site-file  \\\n",
      "  --no-environ --no-save --no-restore --quiet CMD INSTALL  \\\n",
      "  '/gpfs/global_fs01/sym_shared/YPProdSpark/user/saa2-26402da99cd883-b36e0daf8e2e/notebook/tmp/RtmpEyQQTH/devtoolsb9da21171a7c/Brunel-Visualization-Brunel-e22ad23/R'  \\\n",
      "  --library='/gpfs/global_fs01/sym_shared/YPProdSpark/user/saa2-26402da99cd883-b36e0daf8e2e/R/libs'  \\\n",
      "  --install-tests \n",
      "\n"
     ]
    }
   ],
   "source": [
    "devtools::install_github(\"Brunel-Visualization/Brunel\", subdir=\"R\", ref=\"master2.1\", force=TRUE)"
   ]
  },
  {
   "cell_type": "markdown",
   "metadata": {},
   "source": [
    "### Installing R packages for machine learning"
   ]
  },
  {
   "cell_type": "code",
   "execution_count": 4,
   "metadata": {
    "collapsed": false
   },
   "outputs": [
    {
     "name": "stderr",
     "output_type": "stream",
     "text": [
      "Installing package into '/gpfs/global_fs01/sym_shared/YPProdSpark/user/saa2-26402da99cd883-b36e0daf8e2e/R/libs'\n",
      "(as 'lib' is unspecified)\n"
     ]
    }
   ],
   "source": [
    "install.packages(\"arules\")"
   ]
  },
  {
   "cell_type": "code",
   "execution_count": 5,
   "metadata": {
    "collapsed": false
   },
   "outputs": [
    {
     "name": "stderr",
     "output_type": "stream",
     "text": [
      "Installing package into '/gpfs/global_fs01/sym_shared/YPProdSpark/user/saa2-26402da99cd883-b36e0daf8e2e/R/libs'\n",
      "(as 'lib' is unspecified)\n"
     ]
    }
   ],
   "source": [
    "install.packages(\"C50\")"
   ]
  },
  {
   "cell_type": "code",
   "execution_count": 6,
   "metadata": {
    "collapsed": false
   },
   "outputs": [
    {
     "name": "stderr",
     "output_type": "stream",
     "text": [
      "Downloading GitHub repo ibmdataworks/datafirst@master\n",
      "from URL https://api.github.com/repos/ibmdataworks/datafirst/zipball/master\n",
      "Installing sigmoml\n",
      "Installing partykit\n",
      "'/usr/local/src/bluemix_jupyter_bundle/R/lib64/R/bin/R' --no-site-file  \\\n",
      "  --no-environ --no-save --no-restore --quiet CMD INSTALL  \\\n",
      "  '/gpfs/global_fs01/sym_shared/YPProdSpark/user/saa2-26402da99cd883-b36e0daf8e2e/notebook/tmp/RtmphbNMyV/devtools50f2057ca9/partykit'  \\\n",
      "  --library='/gpfs/global_fs01/sym_shared/YPProdSpark/user/saa2-26402da99cd883-b36e0daf8e2e/R/libs'  \\\n",
      "  --install-tests \n",
      "\n",
      "'/usr/local/src/bluemix_jupyter_bundle/R/lib64/R/bin/R' --no-site-file  \\\n",
      "  --no-environ --no-save --no-restore --quiet CMD INSTALL  \\\n",
      "  '/gpfs/global_fs01/sym_shared/YPProdSpark/user/saa2-26402da99cd883-b36e0daf8e2e/notebook/tmp/RtmphbNMyV/devtools50f2fe075d0/ibmdataworks-datafirst-3749b8c/datascientist/machinelearning/sigmoml'  \\\n",
      "  --library='/gpfs/global_fs01/sym_shared/YPProdSpark/user/saa2-26402da99cd883-b36e0daf8e2e/R/libs'  \\\n",
      "  --install-tests \n",
      "\n"
     ]
    }
   ],
   "source": [
    "# a package supporting model transformations for visualization\n",
    "devtools::install_github(\"ibmdataworks/datafirst\", subdir=\"datascientist/machinelearning/sigmoml\", force=TRUE)"
   ]
  }
 ],
 "metadata": {
  "kernelspec": {
   "display_name": "R",
   "language": "R",
   "name": "r"
  },
  "language_info": {
   "codemirror_mode": "r",
   "file_extension": ".r",
   "mimetype": "text/x-r-source",
   "name": "R",
   "pygments_lexer": "r",
   "version": "3.3.0"
  }
 },
 "nbformat": 4,
 "nbformat_minor": 0
}